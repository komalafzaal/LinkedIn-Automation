{
 "cells": [
  {
   "cell_type": "markdown",
   "metadata": {},
   "source": [
    "LinkedIn Connection Request Automation"
   ]
  },
  {
   "cell_type": "code",
   "execution_count": 1,
   "metadata": {},
   "outputs": [],
   "source": [
    "from selenium import webdriver\n",
    "from selenium.webdriver.common.keys import Keys\n",
    "from selenium.webdriver.common.by import By\n",
    "from selenium.webdriver.support.ui import WebDriverWait\n",
    "from selenium.webdriver.support import expected_conditions as EC\n",
    "import time\n",
    "from config import USERNAME, PASSWORD"
   ]
  },
  {
   "cell_type": "markdown",
   "metadata": {},
   "source": [
    "Email Password"
   ]
  },
  {
   "cell_type": "code",
   "execution_count": 2,
   "metadata": {},
   "outputs": [],
   "source": [
    "SEARCH_TEXT = \"recruiter\""
   ]
  },
  {
   "cell_type": "markdown",
   "metadata": {},
   "source": [
    "Chrome Deriver"
   ]
  },
  {
   "cell_type": "code",
   "execution_count": 3,
   "metadata": {},
   "outputs": [],
   "source": [
    "# Create Chrome WebDriver instance\n",
    "driver = webdriver.Chrome()\n",
    "wait = WebDriverWait(driver, 10)\n",
    "\n",
    "driver.get(\"https://www.linkedin.com\")"
   ]
  },
  {
   "cell_type": "markdown",
   "metadata": {},
   "source": [
    "Find Username and Password Fields"
   ]
  },
  {
   "cell_type": "code",
   "execution_count": 4,
   "metadata": {},
   "outputs": [],
   "source": [
    "username = wait.until(EC.visibility_of_element_located((By.ID, \"session_key\")))\n",
    "password = wait.until(EC.visibility_of_element_located((By.ID, \"session_password\")))"
   ]
  },
  {
   "cell_type": "markdown",
   "metadata": {},
   "source": [
    "Send Email and Password"
   ]
  },
  {
   "cell_type": "code",
   "execution_count": 5,
   "metadata": {},
   "outputs": [],
   "source": [
    "# Enter username and password\n",
    "username.send_keys(USERNAME)\n",
    "password.send_keys(PASSWORD)"
   ]
  },
  {
   "cell_type": "markdown",
   "metadata": {},
   "source": [
    "Click the Login Button"
   ]
  },
  {
   "cell_type": "code",
   "execution_count": 6,
   "metadata": {},
   "outputs": [
    {
     "name": "stdout",
     "output_type": "stream",
     "text": [
      "Login successful\n"
     ]
    }
   ],
   "source": [
    "# Click the login button\n",
    "login_button = wait.until(EC.element_to_be_clickable((By.XPATH, \"//*[@id='main-content']/section[1]/div/div/form/div[2]/button\")))\n",
    "login_button.click()\n",
    "print(\"Login successful\")"
   ]
  },
  {
   "cell_type": "markdown",
   "metadata": {},
   "source": [
    "Find Search Box "
   ]
  },
  {
   "cell_type": "code",
   "execution_count": 7,
   "metadata": {},
   "outputs": [],
   "source": [
    "# Search for profiles\n",
    "search_box = wait.until(EC.visibility_of_element_located((By.XPATH, \"//*[@id='global-nav-typeahead']/input\")))\n",
    "search_box.send_keys(SEARCH_TEXT)\n",
    "search_box.send_keys(Keys.RETURN)"
   ]
  },
  {
   "cell_type": "code",
   "execution_count": null,
   "metadata": {},
   "outputs": [],
   "source": []
  },
  {
   "cell_type": "markdown",
   "metadata": {},
   "source": [
    "Find People"
   ]
  },
  {
   "cell_type": "code",
   "execution_count": 8,
   "metadata": {},
   "outputs": [],
   "source": [
    "people_filter = wait.until(EC.element_to_be_clickable((By.XPATH, \"//li[.//button[text()='People']]//button\")))\n",
    "people_filter.click()\n"
   ]
  },
  {
   "cell_type": "markdown",
   "metadata": {},
   "source": [
    "Send Connection Request 5 People"
   ]
  },
  {
   "cell_type": "code",
   "execution_count": 9,
   "metadata": {},
   "outputs": [
    {
     "ename": "StaleElementReferenceException",
     "evalue": "Message: stale element reference: stale element not found\n  (Session info: chrome=118.0.5993.118); For documentation on this error, please visit: https://www.selenium.dev/documentation/webdriver/troubleshooting/errors#stale-element-reference-exception\nStacktrace:\n\tGetHandleVerifier [0x00007FF7E2398EF2+54786]\n\t(No symbol) [0x00007FF7E2305612]\n\t(No symbol) [0x00007FF7E21BA64B]\n\t(No symbol) [0x00007FF7E21BF116]\n\t(No symbol) [0x00007FF7E21C115F]\n\t(No symbol) [0x00007FF7E21C1250]\n\t(No symbol) [0x00007FF7E21F7631]\n\t(No symbol) [0x00007FF7E221BE6A]\n\t(No symbol) [0x00007FF7E21F22E6]\n\t(No symbol) [0x00007FF7E221C080]\n\t(No symbol) [0x00007FF7E2234D02]\n\t(No symbol) [0x00007FF7E221BC43]\n\t(No symbol) [0x00007FF7E21F0941]\n\t(No symbol) [0x00007FF7E21F1B84]\n\tGetHandleVerifier [0x00007FF7E26E7F52+3524194]\n\tGetHandleVerifier [0x00007FF7E273D800+3874576]\n\tGetHandleVerifier [0x00007FF7E2735D7F+3843215]\n\tGetHandleVerifier [0x00007FF7E2435086+694166]\n\t(No symbol) [0x00007FF7E2310A88]\n\t(No symbol) [0x00007FF7E230CA94]\n\t(No symbol) [0x00007FF7E230CBC2]\n\t(No symbol) [0x00007FF7E22FCC83]\n\tBaseThreadInitThunk [0x00007FFA8F847344+20]\n\tRtlUserThreadStart [0x00007FFA918226B1+33]\n",
     "output_type": "error",
     "traceback": [
      "\u001b[1;31m---------------------------------------------------------------------------\u001b[0m",
      "\u001b[1;31mStaleElementReferenceException\u001b[0m            Traceback (most recent call last)",
      "\u001b[1;32me:\\Komal Afzaal BSCS\\Online Work\\LinkedIn-Automation\\test.ipynb Cell 19\u001b[0m line \u001b[0;36m5\n\u001b[0;32m      <a href='vscode-notebook-cell:/e%3A/Komal%20Afzaal%20BSCS/Online%20Work/LinkedIn-Automation/test.ipynb#X23sZmlsZQ%3D%3D?line=2'>3</a>\u001b[0m \u001b[39mfor\u001b[39;00m button \u001b[39min\u001b[39;00m connect_buttons[:\u001b[39m5\u001b[39m]:\n\u001b[0;32m      <a href='vscode-notebook-cell:/e%3A/Komal%20Afzaal%20BSCS/Online%20Work/LinkedIn-Automation/test.ipynb#X23sZmlsZQ%3D%3D?line=3'>4</a>\u001b[0m     button\u001b[39m.\u001b[39mclick()\n\u001b[1;32m----> <a href='vscode-notebook-cell:/e%3A/Komal%20Afzaal%20BSCS/Online%20Work/LinkedIn-Automation/test.ipynb#X23sZmlsZQ%3D%3D?line=4'>5</a>\u001b[0m     send_button \u001b[39m=\u001b[39m wait\u001b[39m.\u001b[39;49muntil(EC\u001b[39m.\u001b[39;49melement_to_be_clickable((By\u001b[39m.\u001b[39;49mCLASS_NAME, \u001b[39m'\u001b[39;49m\u001b[39martdeco-button--primary\u001b[39;49m\u001b[39m'\u001b[39;49m)))\n\u001b[0;32m      <a href='vscode-notebook-cell:/e%3A/Komal%20Afzaal%20BSCS/Online%20Work/LinkedIn-Automation/test.ipynb#X23sZmlsZQ%3D%3D?line=5'>6</a>\u001b[0m     send_button\u001b[39m.\u001b[39mclick()\n\u001b[0;32m      <a href='vscode-notebook-cell:/e%3A/Komal%20Afzaal%20BSCS/Online%20Work/LinkedIn-Automation/test.ipynb#X23sZmlsZQ%3D%3D?line=6'>7</a>\u001b[0m     time\u001b[39m.\u001b[39msleep(\u001b[39m5\u001b[39m)\n",
      "File \u001b[1;32mc:\\Users\\komal afzaal\\AppData\\Local\\Programs\\Python\\Python311\\Lib\\site-packages\\selenium\\webdriver\\support\\wait.py:86\u001b[0m, in \u001b[0;36mWebDriverWait.until\u001b[1;34m(self, method, message)\u001b[0m\n\u001b[0;32m     84\u001b[0m \u001b[39mwhile\u001b[39;00m \u001b[39mTrue\u001b[39;00m:\n\u001b[0;32m     85\u001b[0m     \u001b[39mtry\u001b[39;00m:\n\u001b[1;32m---> 86\u001b[0m         value \u001b[39m=\u001b[39m method(\u001b[39mself\u001b[39;49m\u001b[39m.\u001b[39;49m_driver)\n\u001b[0;32m     87\u001b[0m         \u001b[39mif\u001b[39;00m value:\n\u001b[0;32m     88\u001b[0m             \u001b[39mreturn\u001b[39;00m value\n",
      "File \u001b[1;32mc:\\Users\\komal afzaal\\AppData\\Local\\Programs\\Python\\Python311\\Lib\\site-packages\\selenium\\webdriver\\support\\expected_conditions.py:357\u001b[0m, in \u001b[0;36melement_to_be_clickable.<locals>._predicate\u001b[1;34m(driver)\u001b[0m\n\u001b[0;32m    355\u001b[0m     target \u001b[39m=\u001b[39m driver\u001b[39m.\u001b[39mfind_element(\u001b[39m*\u001b[39mtarget)  \u001b[39m# grab element at locator\u001b[39;00m\n\u001b[0;32m    356\u001b[0m target \u001b[39m=\u001b[39m visibility_of(target)(driver)\n\u001b[1;32m--> 357\u001b[0m \u001b[39mif\u001b[39;00m target \u001b[39mand\u001b[39;00m target\u001b[39m.\u001b[39;49mis_enabled():\n\u001b[0;32m    358\u001b[0m     \u001b[39mreturn\u001b[39;00m target\n\u001b[0;32m    359\u001b[0m \u001b[39mreturn\u001b[39;00m \u001b[39mFalse\u001b[39;00m\n",
      "File \u001b[1;32mc:\\Users\\komal afzaal\\AppData\\Local\\Programs\\Python\\Python311\\Lib\\site-packages\\selenium\\webdriver\\remote\\webelement.py:192\u001b[0m, in \u001b[0;36mWebElement.is_enabled\u001b[1;34m(self)\u001b[0m\n\u001b[0;32m    190\u001b[0m \u001b[39mdef\u001b[39;00m \u001b[39mis_enabled\u001b[39m(\u001b[39mself\u001b[39m) \u001b[39m-\u001b[39m\u001b[39m>\u001b[39m \u001b[39mbool\u001b[39m:\n\u001b[0;32m    191\u001b[0m \u001b[39m    \u001b[39m\u001b[39m\"\"\"Returns whether the element is enabled.\"\"\"\u001b[39;00m\n\u001b[1;32m--> 192\u001b[0m     \u001b[39mreturn\u001b[39;00m \u001b[39mself\u001b[39;49m\u001b[39m.\u001b[39;49m_execute(Command\u001b[39m.\u001b[39;49mIS_ELEMENT_ENABLED)[\u001b[39m\"\u001b[39m\u001b[39mvalue\u001b[39m\u001b[39m\"\u001b[39m]\n",
      "File \u001b[1;32mc:\\Users\\komal afzaal\\AppData\\Local\\Programs\\Python\\Python311\\Lib\\site-packages\\selenium\\webdriver\\remote\\webelement.py:395\u001b[0m, in \u001b[0;36mWebElement._execute\u001b[1;34m(self, command, params)\u001b[0m\n\u001b[0;32m    393\u001b[0m     params \u001b[39m=\u001b[39m {}\n\u001b[0;32m    394\u001b[0m params[\u001b[39m\"\u001b[39m\u001b[39mid\u001b[39m\u001b[39m\"\u001b[39m] \u001b[39m=\u001b[39m \u001b[39mself\u001b[39m\u001b[39m.\u001b[39m_id\n\u001b[1;32m--> 395\u001b[0m \u001b[39mreturn\u001b[39;00m \u001b[39mself\u001b[39;49m\u001b[39m.\u001b[39;49m_parent\u001b[39m.\u001b[39;49mexecute(command, params)\n",
      "File \u001b[1;32mc:\\Users\\komal afzaal\\AppData\\Local\\Programs\\Python\\Python311\\Lib\\site-packages\\selenium\\webdriver\\remote\\webdriver.py:345\u001b[0m, in \u001b[0;36mWebDriver.execute\u001b[1;34m(self, driver_command, params)\u001b[0m\n\u001b[0;32m    343\u001b[0m response \u001b[39m=\u001b[39m \u001b[39mself\u001b[39m\u001b[39m.\u001b[39mcommand_executor\u001b[39m.\u001b[39mexecute(driver_command, params)\n\u001b[0;32m    344\u001b[0m \u001b[39mif\u001b[39;00m response:\n\u001b[1;32m--> 345\u001b[0m     \u001b[39mself\u001b[39;49m\u001b[39m.\u001b[39;49merror_handler\u001b[39m.\u001b[39;49mcheck_response(response)\n\u001b[0;32m    346\u001b[0m     response[\u001b[39m\"\u001b[39m\u001b[39mvalue\u001b[39m\u001b[39m\"\u001b[39m] \u001b[39m=\u001b[39m \u001b[39mself\u001b[39m\u001b[39m.\u001b[39m_unwrap_value(response\u001b[39m.\u001b[39mget(\u001b[39m\"\u001b[39m\u001b[39mvalue\u001b[39m\u001b[39m\"\u001b[39m, \u001b[39mNone\u001b[39;00m))\n\u001b[0;32m    347\u001b[0m     \u001b[39mreturn\u001b[39;00m response\n",
      "File \u001b[1;32mc:\\Users\\komal afzaal\\AppData\\Local\\Programs\\Python\\Python311\\Lib\\site-packages\\selenium\\webdriver\\remote\\errorhandler.py:229\u001b[0m, in \u001b[0;36mErrorHandler.check_response\u001b[1;34m(self, response)\u001b[0m\n\u001b[0;32m    227\u001b[0m         alert_text \u001b[39m=\u001b[39m value[\u001b[39m\"\u001b[39m\u001b[39malert\u001b[39m\u001b[39m\"\u001b[39m]\u001b[39m.\u001b[39mget(\u001b[39m\"\u001b[39m\u001b[39mtext\u001b[39m\u001b[39m\"\u001b[39m)\n\u001b[0;32m    228\u001b[0m     \u001b[39mraise\u001b[39;00m exception_class(message, screen, stacktrace, alert_text)  \u001b[39m# type: ignore[call-arg]  # mypy is not smart enough here\u001b[39;00m\n\u001b[1;32m--> 229\u001b[0m \u001b[39mraise\u001b[39;00m exception_class(message, screen, stacktrace)\n",
      "\u001b[1;31mStaleElementReferenceException\u001b[0m: Message: stale element reference: stale element not found\n  (Session info: chrome=118.0.5993.118); For documentation on this error, please visit: https://www.selenium.dev/documentation/webdriver/troubleshooting/errors#stale-element-reference-exception\nStacktrace:\n\tGetHandleVerifier [0x00007FF7E2398EF2+54786]\n\t(No symbol) [0x00007FF7E2305612]\n\t(No symbol) [0x00007FF7E21BA64B]\n\t(No symbol) [0x00007FF7E21BF116]\n\t(No symbol) [0x00007FF7E21C115F]\n\t(No symbol) [0x00007FF7E21C1250]\n\t(No symbol) [0x00007FF7E21F7631]\n\t(No symbol) [0x00007FF7E221BE6A]\n\t(No symbol) [0x00007FF7E21F22E6]\n\t(No symbol) [0x00007FF7E221C080]\n\t(No symbol) [0x00007FF7E2234D02]\n\t(No symbol) [0x00007FF7E221BC43]\n\t(No symbol) [0x00007FF7E21F0941]\n\t(No symbol) [0x00007FF7E21F1B84]\n\tGetHandleVerifier [0x00007FF7E26E7F52+3524194]\n\tGetHandleVerifier [0x00007FF7E273D800+3874576]\n\tGetHandleVerifier [0x00007FF7E2735D7F+3843215]\n\tGetHandleVerifier [0x00007FF7E2435086+694166]\n\t(No symbol) [0x00007FF7E2310A88]\n\t(No symbol) [0x00007FF7E230CA94]\n\t(No symbol) [0x00007FF7E230CBC2]\n\t(No symbol) [0x00007FF7E22FCC83]\n\tBaseThreadInitThunk [0x00007FFA8F847344+20]\n\tRtlUserThreadStart [0x00007FFA918226B1+33]\n"
     ]
    }
   ],
   "source": [
    "\n",
    "# Find and click the \"Connect\" buttons (if text is 'Connect')\n",
    "connect_buttons = wait.until(EC.visibility_of_all_elements_located((By.XPATH, \"//span[text()='Connect']/ancestor::button\")))\n",
    "for button in connect_buttons:\n",
    "    button.click()\n",
    "    send_button = wait.until(EC.element_to_be_clickable((By.CLASS_NAME, 'artdeco-button--primary')))\n",
    "    send_button.click()\n",
    "    time.sleep(5)\n"
   ]
  },
  {
   "cell_type": "markdown",
   "metadata": {},
   "source": [
    "close the driver"
   ]
  },
  {
   "cell_type": "code",
   "execution_count": null,
   "metadata": {},
   "outputs": [],
   "source": [
    "driver.quit()"
   ]
  }
 ],
 "metadata": {
  "kernelspec": {
   "display_name": "Python 3",
   "language": "python",
   "name": "python3"
  },
  "language_info": {
   "codemirror_mode": {
    "name": "ipython",
    "version": 3
   },
   "file_extension": ".py",
   "mimetype": "text/x-python",
   "name": "python",
   "nbconvert_exporter": "python",
   "pygments_lexer": "ipython3",
   "version": "3.11.4"
  },
  "orig_nbformat": 4
 },
 "nbformat": 4,
 "nbformat_minor": 2
}
