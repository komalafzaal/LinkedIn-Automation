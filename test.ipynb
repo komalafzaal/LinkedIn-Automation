{
 "cells": [
  {
   "cell_type": "markdown",
   "metadata": {},
   "source": [
    "LinkedIn Connection Request Automation"
   ]
  },
  {
   "cell_type": "code",
   "execution_count": 13,
   "metadata": {},
   "outputs": [],
   "source": [
    "from selenium import webdriver\n",
    "from selenium.webdriver.common.keys import Keys\n",
    "from selenium.webdriver.common.by import By\n",
    "from selenium.webdriver.support.ui import WebDriverWait\n",
    "from selenium.webdriver.support import expected_conditions as EC\n",
    "import time\n",
    "from config import USERNAME, PASSWORD"
   ]
  },
  {
   "cell_type": "markdown",
   "metadata": {},
   "source": [
    "Email Password"
   ]
  },
  {
   "cell_type": "code",
   "execution_count": 21,
   "metadata": {},
   "outputs": [],
   "source": [
    "SEARCH_TEXT = \"software engineer\""
   ]
  },
  {
   "cell_type": "markdown",
   "metadata": {},
   "source": [
    "Chrome Deriver"
   ]
  },
  {
   "cell_type": "code",
   "execution_count": 15,
   "metadata": {},
   "outputs": [],
   "source": [
    "# Create Chrome WebDriver instance\n",
    "driver = webdriver.Chrome()\n",
    "wait = WebDriverWait(driver, 10)\n",
    "\n",
    "driver.get(\"https://www.linkedin.com\")"
   ]
  },
  {
   "cell_type": "markdown",
   "metadata": {},
   "source": [
    "Find Username and Password Fields"
   ]
  },
  {
   "cell_type": "code",
   "execution_count": 16,
   "metadata": {},
   "outputs": [],
   "source": [
    "username = wait.until(EC.visibility_of_element_located((By.ID, \"session_key\")))\n",
    "password = wait.until(EC.visibility_of_element_located((By.ID, \"session_password\")))"
   ]
  },
  {
   "cell_type": "markdown",
   "metadata": {},
   "source": [
    "Send Email and Password"
   ]
  },
  {
   "cell_type": "code",
   "execution_count": 17,
   "metadata": {},
   "outputs": [],
   "source": [
    "# Enter username and password\n",
    "username.send_keys(USERNAME)\n",
    "password.send_keys(PASSWORD)"
   ]
  },
  {
   "cell_type": "markdown",
   "metadata": {},
   "source": [
    "Click the Login Button"
   ]
  },
  {
   "cell_type": "code",
   "execution_count": 18,
   "metadata": {},
   "outputs": [
    {
     "name": "stdout",
     "output_type": "stream",
     "text": [
      "Login successful\n"
     ]
    }
   ],
   "source": [
    "# Click the login button\n",
    "login_button = wait.until(EC.element_to_be_clickable((By.XPATH, \"//*[@id='main-content']/section[1]/div/div/form/div[2]/button\")))\n",
    "login_button.click()\n",
    "print(\"Login successful\")"
   ]
  },
  {
   "cell_type": "markdown",
   "metadata": {},
   "source": [
    "Find Search Box "
   ]
  },
  {
   "cell_type": "code",
   "execution_count": 30,
   "metadata": {},
   "outputs": [],
   "source": [
    "# Search for profiles\n",
    "search_box = wait.until(EC.visibility_of_element_located((By.XPATH, \"//*[@id='global-nav-typeahead']/input\")))\n",
    "search_box.send_keys(SEARCH_TEXT)\n",
    "search_box.send_keys(Keys.RETURN)"
   ]
  },
  {
   "cell_type": "markdown",
   "metadata": {},
   "source": [
    "Find People"
   ]
  },
  {
   "cell_type": "code",
   "execution_count": 42,
   "metadata": {},
   "outputs": [],
   "source": [
    "people_filter = wait.until(EC.element_to_be_clickable((By.XPATH, \"//li[.//button[text()='People']]//button\")))\n",
    "people_filter.click()\n"
   ]
  },
  {
   "cell_type": "markdown",
   "metadata": {},
   "source": [
    "Send Connection Request 5 People"
   ]
  },
  {
   "cell_type": "code",
   "execution_count": 43,
   "metadata": {},
   "outputs": [],
   "source": [
    "\n",
    "# Find and click the \"Connect\" buttons (if text is 'Connect')\n",
    "connect_buttons = wait.until(EC.visibility_of_all_elements_located((By.XPATH, \"//span[text()='Connect']/ancestor::button\")))\n",
    "for button in connect_buttons[:5]:\n",
    "    button.click()\n",
    "    send_button = wait.until(EC.element_to_be_clickable((By.CLASS_NAME, 'artdeco-button--primary')))\n",
    "    send_button.click()\n",
    "    time.sleep(5)\n"
   ]
  },
  {
   "cell_type": "markdown",
   "metadata": {},
   "source": [
    "close the driver"
   ]
  },
  {
   "cell_type": "code",
   "execution_count": 44,
   "metadata": {},
   "outputs": [],
   "source": [
    "driver.quit()"
   ]
  }
 ],
 "metadata": {
  "kernelspec": {
   "display_name": "Python 3",
   "language": "python",
   "name": "python3"
  },
  "language_info": {
   "codemirror_mode": {
    "name": "ipython",
    "version": 3
   },
   "file_extension": ".py",
   "mimetype": "text/x-python",
   "name": "python",
   "nbconvert_exporter": "python",
   "pygments_lexer": "ipython3",
   "version": "3.11.4"
  },
  "orig_nbformat": 4
 },
 "nbformat": 4,
 "nbformat_minor": 2
}
